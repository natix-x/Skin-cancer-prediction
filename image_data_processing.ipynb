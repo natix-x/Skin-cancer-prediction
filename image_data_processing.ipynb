{
 "cells": [
  {
   "cell_type": "code",
   "execution_count": 1,
   "outputs": [],
   "source": [
    "import pandas as pd\n",
    "import os\n",
    "import shutil\n",
    "from tensorflow.keras.preprocessing.image import ImageDataGenerator\n",
    "from sklearn.model_selection import train_test_split\n",
    "from sklearn.decomposition import PCA as RandomizedPCA\n",
    "from sklearn.preprocessing import StandardScaler\n",
    "import numpy as np\n",
    "from joblib import Memory"
   ],
   "metadata": {
    "collapsed": false,
    "ExecuteTime": {
     "end_time": "2024-03-21T20:45:18.866144600Z",
     "start_time": "2024-03-21T20:45:03.435027100Z"
    }
   },
   "id": "557ff3db226756c8"
  },
  {
   "cell_type": "code",
   "execution_count": 2,
   "outputs": [],
   "source": [
    "data_dir = \".\\\\DATA\\\\HAM10000_images_part_1_and_2\"  # directory with all images"
   ],
   "metadata": {
    "collapsed": false,
    "ExecuteTime": {
     "end_time": "2024-03-21T20:45:18.888622300Z",
     "start_time": "2024-03-21T20:45:18.864144700Z"
    }
   },
   "id": "34f6ab01cc523274"
  },
  {
   "cell_type": "code",
   "execution_count": 3,
   "outputs": [],
   "source": [
    "dest_dir = \".\\\\DATA\\\\recognized\\\\\"  # directory where all images will be divided into subdirectories"
   ],
   "metadata": {
    "collapsed": false,
    "ExecuteTime": {
     "end_time": "2024-03-21T20:45:18.915138700Z",
     "start_time": "2024-03-21T20:45:18.877553100Z"
    }
   },
   "id": "eb79796f49af9e6a"
  },
  {
   "cell_type": "code",
   "execution_count": 4,
   "outputs": [],
   "source": [
    "df = pd.read_csv(\".\\\\DATA\\\\HAM10000_metadata\")  # read metadata"
   ],
   "metadata": {
    "collapsed": false,
    "ExecuteTime": {
     "end_time": "2024-03-21T20:45:18.978686200Z",
     "start_time": "2024-03-21T20:45:18.897627900Z"
    }
   },
   "id": "1f95dfe091496755"
  },
  {
   "cell_type": "code",
   "execution_count": 5,
   "outputs": [],
   "source": [
    "df = df.rename(columns={\"dx\": \"diagnosis\"})\n",
    "df = df[[\"image_id\", \"diagnosis\"]]"
   ],
   "metadata": {
    "collapsed": false,
    "ExecuteTime": {
     "end_time": "2024-03-21T20:45:19.007875600Z",
     "start_time": "2024-03-21T20:45:18.964489800Z"
    }
   },
   "id": "dbec364a666c8c57"
  },
  {
   "cell_type": "code",
   "execution_count": 6,
   "outputs": [],
   "source": [
    "number_of_rows_to_remove = (\n",
    "    len(df[df[\"diagnosis\"] == \"nv\"]) - 1500\n",
    ")  # count how many rows to remove if number of wanted rows is 1500"
   ],
   "metadata": {
    "collapsed": false,
    "ExecuteTime": {
     "end_time": "2024-03-21T20:45:19.052864600Z",
     "start_time": "2024-03-21T20:45:19.005874500Z"
    }
   },
   "id": "a5fb44e12f235c47"
  },
  {
   "cell_type": "code",
   "execution_count": 7,
   "outputs": [],
   "source": [
    "indices = df[df[\"diagnosis\"] == \"nv\"].index.tolist()"
   ],
   "metadata": {
    "collapsed": false,
    "ExecuteTime": {
     "end_time": "2024-03-21T20:45:19.053864400Z",
     "start_time": "2024-03-21T20:45:19.028126900Z"
    }
   },
   "id": "23d34fdcc3e1e93b"
  },
  {
   "cell_type": "code",
   "execution_count": 8,
   "outputs": [],
   "source": [
    "indices_to_remove = np.random.choice(\n",
    "    indices, number_of_rows_to_remove, replace=False\n",
    ")  # draw indices' numbers"
   ],
   "metadata": {
    "collapsed": false,
    "ExecuteTime": {
     "end_time": "2024-03-21T20:45:19.126893900Z",
     "start_time": "2024-03-21T20:45:19.048864600Z"
    }
   },
   "id": "a605d682c487c3dc"
  },
  {
   "cell_type": "code",
   "execution_count": 9,
   "outputs": [],
   "source": [
    "df = df.drop(indices_to_remove)  # leave 1500 examples of 'nv'"
   ],
   "metadata": {
    "collapsed": false,
    "ExecuteTime": {
     "end_time": "2024-03-21T20:45:19.127892800Z",
     "start_time": "2024-03-21T20:45:19.088359Z"
    }
   },
   "id": "c6f44237e3dfbfe5"
  },
  {
   "cell_type": "code",
   "execution_count": 10,
   "outputs": [],
   "source": [
    "for label in df[\"diagnosis\"].unique():\n",
    "    os.makedirs(\n",
    "        os.path.join(dest_dir, label), exist_ok=True\n",
    "    )  # make directory for each label"
   ],
   "metadata": {
    "collapsed": false,
    "ExecuteTime": {
     "end_time": "2024-03-21T20:45:19.202703700Z",
     "start_time": "2024-03-21T20:45:19.115892600Z"
    }
   },
   "id": "8759beed3b67e19b"
  },
  {
   "cell_type": "code",
   "execution_count": 11,
   "outputs": [],
   "source": [
    "for index, row in df.iterrows():\n",
    "    source_file = os.path.join(data_dir, f\"{row['image_id']}.jpg\")\n",
    "    destination_file = os.path.join(\n",
    "        dest_dir, row[\"diagnosis\"], f\"{row['image_id']}.jpg\"\n",
    "    )\n",
    "    shutil.copyfile(\n",
    "        source_file, destination_file\n",
    "    )  # copy image to defined earlier subdirectory"
   ],
   "metadata": {
    "collapsed": false,
    "ExecuteTime": {
     "end_time": "2024-03-21T20:45:46.233105400Z",
     "start_time": "2024-03-21T20:45:19.152701100Z"
    }
   },
   "id": "2bf080885c1ad0d4"
  },
  {
   "cell_type": "code",
   "execution_count": 12,
   "outputs": [],
   "source": [
    "train_dir = os.path.join(dest_dir, \"train\")  # create train directory\n",
    "test_dir = os.path.join(dest_dir, \"test\")  # create test directory\n",
    "os.makedirs(train_dir, exist_ok=True)\n",
    "os.makedirs(test_dir, exist_ok=True)"
   ],
   "metadata": {
    "collapsed": false,
    "ExecuteTime": {
     "end_time": "2024-03-21T20:45:46.300365900Z",
     "start_time": "2024-03-21T20:45:46.263104900Z"
    }
   },
   "id": "182f42e4e894cd37"
  },
  {
   "cell_type": "code",
   "execution_count": 13,
   "outputs": [],
   "source": [
    "train_df, test_df = train_test_split(\n",
    "    df, test_size=0.2, stratify=df[\"diagnosis\"], random_state=42\n",
    ")  # split images into test and train directories"
   ],
   "metadata": {
    "collapsed": false,
    "ExecuteTime": {
     "end_time": "2024-03-21T20:45:46.378447400Z",
     "start_time": "2024-03-21T20:45:46.294366Z"
    }
   },
   "id": "b5f821b4263b2995"
  },
  {
   "cell_type": "code",
   "execution_count": 49,
   "outputs": [
    {
     "ename": "KeyboardInterrupt",
     "evalue": "",
     "output_type": "error",
     "traceback": [
      "\u001b[1;31m---------------------------------------------------------------------------\u001b[0m",
      "\u001b[1;31mKeyboardInterrupt\u001b[0m                         Traceback (most recent call last)",
      "Cell \u001b[1;32mIn[49], line 5\u001b[0m\n\u001b[0;32m      3\u001b[0m destination_file \u001b[38;5;241m=\u001b[39m os\u001b[38;5;241m.\u001b[39mpath\u001b[38;5;241m.\u001b[39mjoin(train_dir, row[\u001b[38;5;124m\"\u001b[39m\u001b[38;5;124mdiagnosis\u001b[39m\u001b[38;5;124m\"\u001b[39m], \u001b[38;5;124mf\u001b[39m\u001b[38;5;124m\"\u001b[39m\u001b[38;5;132;01m{\u001b[39;00mrow[\u001b[38;5;124m'\u001b[39m\u001b[38;5;124mimage_id\u001b[39m\u001b[38;5;124m'\u001b[39m]\u001b[38;5;132;01m}\u001b[39;00m\u001b[38;5;124m.jpg\u001b[39m\u001b[38;5;124m\"\u001b[39m)\n\u001b[0;32m      4\u001b[0m os\u001b[38;5;241m.\u001b[39mmakedirs(os\u001b[38;5;241m.\u001b[39mpath\u001b[38;5;241m.\u001b[39mdirname(destination_file), exist_ok\u001b[38;5;241m=\u001b[39m\u001b[38;5;28;01mTrue\u001b[39;00m)\n\u001b[1;32m----> 5\u001b[0m \u001b[43mshutil\u001b[49m\u001b[38;5;241;43m.\u001b[39;49m\u001b[43mcopyfile\u001b[49m\u001b[43m(\u001b[49m\u001b[43msource_file\u001b[49m\u001b[43m,\u001b[49m\u001b[43m \u001b[49m\u001b[43mdestination_file\u001b[49m\u001b[43m)\u001b[49m \n",
      "File \u001b[1;32mC:\\Program Files\\Python311\\Lib\\shutil.py:276\u001b[0m, in \u001b[0;36mcopyfile\u001b[1;34m(src, dst, follow_symlinks)\u001b[0m\n\u001b[0;32m    273\u001b[0m \u001b[38;5;66;03m# Windows, see:\u001b[39;00m\n\u001b[0;32m    274\u001b[0m \u001b[38;5;66;03m# https://github.com/python/cpython/pull/7160#discussion_r195405230\u001b[39;00m\n\u001b[0;32m    275\u001b[0m \u001b[38;5;28;01melif\u001b[39;00m _WINDOWS \u001b[38;5;129;01mand\u001b[39;00m file_size \u001b[38;5;241m>\u001b[39m \u001b[38;5;241m0\u001b[39m:\n\u001b[1;32m--> 276\u001b[0m     \u001b[43m_copyfileobj_readinto\u001b[49m\u001b[43m(\u001b[49m\u001b[43mfsrc\u001b[49m\u001b[43m,\u001b[49m\u001b[43m \u001b[49m\u001b[43mfdst\u001b[49m\u001b[43m,\u001b[49m\u001b[43m \u001b[49m\u001b[38;5;28;43mmin\u001b[39;49m\u001b[43m(\u001b[49m\u001b[43mfile_size\u001b[49m\u001b[43m,\u001b[49m\u001b[43m \u001b[49m\u001b[43mCOPY_BUFSIZE\u001b[49m\u001b[43m)\u001b[49m\u001b[43m)\u001b[49m\n\u001b[0;32m    277\u001b[0m     \u001b[38;5;28;01mreturn\u001b[39;00m dst\n\u001b[0;32m    279\u001b[0m copyfileobj(fsrc, fdst)\n",
      "File \u001b[1;32mC:\\Program Files\\Python311\\Lib\\shutil.py:180\u001b[0m, in \u001b[0;36m_copyfileobj_readinto\u001b[1;34m(fsrc, fdst, length)\u001b[0m\n\u001b[0;32m    178\u001b[0m \u001b[38;5;28;01mwith\u001b[39;00m \u001b[38;5;28mmemoryview\u001b[39m(\u001b[38;5;28mbytearray\u001b[39m(length)) \u001b[38;5;28;01mas\u001b[39;00m mv:\n\u001b[0;32m    179\u001b[0m     \u001b[38;5;28;01mwhile\u001b[39;00m \u001b[38;5;28;01mTrue\u001b[39;00m:\n\u001b[1;32m--> 180\u001b[0m         n \u001b[38;5;241m=\u001b[39m fsrc_readinto(mv)\n\u001b[0;32m    181\u001b[0m         \u001b[38;5;28;01mif\u001b[39;00m \u001b[38;5;129;01mnot\u001b[39;00m n:\n\u001b[0;32m    182\u001b[0m             \u001b[38;5;28;01mbreak\u001b[39;00m\n",
      "\u001b[1;31mKeyboardInterrupt\u001b[0m: "
     ]
    }
   ],
   "source": [
    "for index, row in train_df.iterrows():\n",
    "    source_file = os.path.join(dest_dir, row[\"diagnosis\"], f\"{row['image_id']}.jpg\")\n",
    "    destination_file = os.path.join(\n",
    "        train_dir, row[\"diagnosis\"], f\"{row['image_id']}.jpg\"\n",
    "    )\n",
    "    os.makedirs(os.path.dirname(destination_file), exist_ok=True)\n",
    "    shutil.copyfile(\n",
    "        source_file, destination_file\n",
    "    )  # create subdirectories for each label inside train directory"
   ],
   "metadata": {
    "collapsed": false,
    "ExecuteTime": {
     "end_time": "2024-03-21T22:25:49.053566500Z",
     "start_time": "2024-03-21T22:25:41.389650700Z"
    }
   },
   "id": "b5ed24faea457c9e"
  },
  {
   "cell_type": "code",
   "execution_count": 15,
   "outputs": [],
   "source": [
    "for index, row in test_df.iterrows():\n",
    "    source_file = os.path.join(dest_dir, row[\"diagnosis\"], f\"{row['image_id']}.jpg\")\n",
    "    destination_file = os.path.join(\n",
    "        test_dir, row[\"diagnosis\"], f\"{row['image_id']}.jpg\"\n",
    "    )\n",
    "    os.makedirs(os.path.dirname(destination_file), exist_ok=True)\n",
    "    shutil.copyfile(\n",
    "        source_file, destination_file\n",
    "    )  # create subdirectories for each label inside test directory"
   ],
   "metadata": {
    "collapsed": false,
    "ExecuteTime": {
     "end_time": "2024-03-21T20:46:28.392139400Z",
     "start_time": "2024-03-21T20:46:20.245380100Z"
    }
   },
   "id": "9941efa62ed06efc"
  },
  {
   "cell_type": "code",
   "execution_count": 16,
   "outputs": [],
   "source": [
    "train_datagen = ImageDataGenerator(\n",
    "    rotation_range=45,\n",
    "    width_shift_range=0.2,\n",
    "    height_shift_range=0.2,\n",
    "    shear_range=0.2,\n",
    "    horizontal_flip=True,\n",
    "    vertical_flip=True,\n",
    "    fill_mode=\"reflect\",\n",
    ")  # define train image generator, add data augmentation techniques"
   ],
   "metadata": {
    "collapsed": false,
    "ExecuteTime": {
     "end_time": "2024-03-21T20:46:28.413493900Z",
     "start_time": "2024-03-21T20:46:28.395139300Z"
    }
   },
   "id": "352afabecb238cdc"
  },
  {
   "cell_type": "code",
   "execution_count": 17,
   "outputs": [],
   "source": [
    "test_datagen = ImageDataGenerator()  # define test image generator"
   ],
   "metadata": {
    "collapsed": false,
    "ExecuteTime": {
     "end_time": "2024-03-21T20:46:28.414482400Z",
     "start_time": "2024-03-21T20:46:28.405661700Z"
    }
   },
   "id": "e77967db72dd6cc8"
  },
  {
   "cell_type": "code",
   "execution_count": 18,
   "outputs": [
    {
     "name": "stdout",
     "output_type": "stream",
     "text": [
      "Found 4843 images belonging to 7 classes.\n"
     ]
    }
   ],
   "source": [
    "train_data = train_datagen.flow_from_directory(\n",
    "    directory=train_dir, class_mode=\"sparse\", batch_size=16, target_size=(240, 180)\n",
    ")  # load train data"
   ],
   "metadata": {
    "collapsed": false,
    "ExecuteTime": {
     "end_time": "2024-03-21T20:46:28.670778900Z",
     "start_time": "2024-03-21T20:46:28.414482400Z"
    }
   },
   "id": "13ab414cb6bc24c1"
  },
  {
   "cell_type": "code",
   "execution_count": 19,
   "outputs": [
    {
     "name": "stdout",
     "output_type": "stream",
     "text": [
      "Found 1247 images belonging to 7 classes.\n"
     ]
    }
   ],
   "source": [
    "test_data = test_datagen.flow_from_directory(\n",
    "    directory=test_dir, class_mode=\"sparse\", batch_size=16, target_size=(240, 180)\n",
    ")  # load test_data"
   ],
   "metadata": {
    "collapsed": false,
    "ExecuteTime": {
     "end_time": "2024-03-21T20:46:28.797593500Z",
     "start_time": "2024-03-21T20:46:28.671778200Z"
    }
   },
   "id": "73c0ef07f6417614"
  },
  {
   "cell_type": "code",
   "execution_count": 20,
   "outputs": [],
   "source": [
    "memory = Memory(location=\"./cache\")  # define memory cache directory"
   ],
   "metadata": {
    "collapsed": false,
    "ExecuteTime": {
     "end_time": "2024-03-21T20:46:28.798595300Z",
     "start_time": "2024-03-21T20:46:28.787143400Z"
    }
   },
   "id": "88e936a7bf22aea6"
  },
  {
   "cell_type": "code",
   "execution_count": 21,
   "outputs": [],
   "source": [
    "@memory.cache\n",
    "def load_images_and_labels(images_data_keras):\n",
    "    \"\"\"\n",
    "    loads images as one dimensional numpy.ndarray of pixels\n",
    "    and labels (diagnosis) as list of diagnosis\n",
    "    :param images_data_keras: loaded data though ImageGenerator\n",
    "    :return: X - numpy.ndarray of pixels; y - list of assigned diagnoses\n",
    "    \"\"\"\n",
    "    X = []\n",
    "    y = []\n",
    "    for i in range(len(images_data_keras)):\n",
    "        images, labels = images_data_keras[i]\n",
    "        X.extend(images)\n",
    "        y.extend(labels)\n",
    "    X = np.array(X)  # change X to np.array\n",
    "    X = [image.flatten() for image in X]  # change np.ndarray's dimension into one\n",
    "    X = np.array(X)  # ensure that X is stored as np.array\n",
    "    return X, y"
   ],
   "metadata": {
    "collapsed": false,
    "ExecuteTime": {
     "end_time": "2024-03-21T20:46:28.866153300Z",
     "start_time": "2024-03-21T20:46:28.796593300Z"
    }
   },
   "id": "bb8083886289f904"
  },
  {
   "cell_type": "code",
   "execution_count": 22,
   "outputs": [
    {
     "name": "stdout",
     "output_type": "stream",
     "text": [
      "________________________________________________________________________________\n",
      "[Memory] Calling __main__-C%3A-Users-natal-AppData-Local-Temp-ipykernel-1876427487.load_images_and_labels...\n",
      "load_images_and_labels(<keras.src.legacy.preprocessing.image.DirectoryIterator object at 0x000001CAA7C40390>)\n",
      "_________________________________________load_images_and_labels - 127.1s, 2.1min\n"
     ]
    }
   ],
   "source": [
    "X_train, y_train = load_images_and_labels(train_data)"
   ],
   "metadata": {
    "collapsed": false,
    "ExecuteTime": {
     "end_time": "2024-03-21T20:48:36.560685300Z",
     "start_time": "2024-03-21T20:46:28.817112400Z"
    }
   },
   "id": "d9647de0fe80c98d"
  },
  {
   "cell_type": "code",
   "execution_count": 23,
   "outputs": [],
   "source": [
    "label_counts = df[\"diagnosis\"].value_counts()"
   ],
   "metadata": {
    "collapsed": false,
    "ExecuteTime": {
     "end_time": "2024-03-21T20:48:37.234278700Z",
     "start_time": "2024-03-21T20:48:36.545253800Z"
    }
   },
   "id": "447e3c22b9a78b3f"
  },
  {
   "cell_type": "code",
   "execution_count": 24,
   "outputs": [],
   "source": [
    "label_map = {\n",
    "    k: v for k, v in test_data.class_indices.items()\n",
    "}  # #map numerical labels to string diagnoses"
   ],
   "metadata": {
    "collapsed": false,
    "ExecuteTime": {
     "end_time": "2024-03-21T20:48:37.249046800Z",
     "start_time": "2024-03-21T20:48:36.763376900Z"
    }
   },
   "id": "43b3aa95505f4f8c"
  },
  {
   "cell_type": "code",
   "execution_count": 26,
   "outputs": [],
   "source": [
    "labels_to_augment = label_counts[\n",
    "    label_counts < 1000\n",
    "].index.tolist()  # show which labels should be augmented (below 1000)"
   ],
   "metadata": {
    "collapsed": false,
    "ExecuteTime": {
     "end_time": "2024-03-21T20:48:37.259098300Z",
     "start_time": "2024-03-21T20:48:36.817699Z"
    }
   },
   "id": "3c1e4c1845ff29c"
  },
  {
   "cell_type": "code",
   "execution_count": 27,
   "outputs": [],
   "source": [
    "current_counts = {\n",
    "    label: len(df[df[\"diagnosis\"] == label]) for label in labels_to_augment\n",
    "}"
   ],
   "metadata": {
    "collapsed": false,
    "ExecuteTime": {
     "end_time": "2024-03-21T20:48:37.262822400Z",
     "start_time": "2024-03-21T20:48:36.833593300Z"
    }
   },
   "id": "9126118c49afefa5"
  },
  {
   "cell_type": "code",
   "execution_count": null,
   "outputs": [],
   "source": [],
   "metadata": {
    "collapsed": false
   },
   "id": "834aadd20ddb5596"
  },
  {
   "cell_type": "code",
   "execution_count": 28,
   "outputs": [
    {
     "data": {
      "text/plain": "{'bcc': 514, 'akiec': 327, 'vasc': 142, 'df': 115}"
     },
     "execution_count": 28,
     "metadata": {},
     "output_type": "execute_result"
    }
   ],
   "source": [
    "current_counts"
   ],
   "metadata": {
    "collapsed": false,
    "ExecuteTime": {
     "end_time": "2024-03-21T20:48:37.262822400Z",
     "start_time": "2024-03-21T20:48:36.859326700Z"
    }
   },
   "id": "e1baf0b43df3eab0"
  },
  {
   "cell_type": "code",
   "execution_count": 29,
   "outputs": [],
   "source": [
    "for i, label in enumerate(labels_to_augment):\n",
    "    labels_to_augment[i] = label_map[label]"
   ],
   "metadata": {
    "collapsed": false,
    "ExecuteTime": {
     "end_time": "2024-03-21T20:48:37.263825500Z",
     "start_time": "2024-03-21T20:48:36.867173400Z"
    }
   },
   "id": "69ef5cd3f522432a"
  },
  {
   "cell_type": "code",
   "execution_count": 30,
   "outputs": [],
   "source": [
    "keys = current_counts.keys()"
   ],
   "metadata": {
    "collapsed": false,
    "ExecuteTime": {
     "end_time": "2024-03-21T20:48:37.263825500Z",
     "start_time": "2024-03-21T20:48:36.877633300Z"
    }
   },
   "id": "2b6ef3d9dd76f0a6"
  },
  {
   "cell_type": "code",
   "execution_count": 31,
   "outputs": [],
   "source": [
    "current_counts = {label_map[label]: count for label, count in current_counts.items()}"
   ],
   "metadata": {
    "collapsed": false,
    "ExecuteTime": {
     "end_time": "2024-03-21T20:48:37.264827200Z",
     "start_time": "2024-03-21T20:48:36.885167100Z"
    }
   },
   "id": "eb97a5fd6b38c628"
  },
  {
   "cell_type": "code",
   "execution_count": 32,
   "outputs": [
    {
     "data": {
      "text/plain": "{1: 514, 0: 327, 6: 142, 3: 115}"
     },
     "execution_count": 32,
     "metadata": {},
     "output_type": "execute_result"
    }
   ],
   "source": [
    "current_counts"
   ],
   "metadata": {
    "collapsed": false,
    "ExecuteTime": {
     "end_time": "2024-03-21T20:48:37.265825300Z",
     "start_time": "2024-03-21T20:48:36.889582300Z"
    }
   },
   "id": "25291f0b9b5f2f7f"
  },
  {
   "cell_type": "code",
   "execution_count": 33,
   "outputs": [],
   "source": [
    "images_to_generate = {\n",
    "    label: 1000 - current_counts[label] for label in labels_to_augment\n",
    "}"
   ],
   "metadata": {
    "collapsed": false,
    "ExecuteTime": {
     "end_time": "2024-03-21T20:48:37.266958900Z",
     "start_time": "2024-03-21T20:48:36.907671200Z"
    }
   },
   "id": "f2077d9b3c5714a"
  },
  {
   "cell_type": "code",
   "execution_count": 34,
   "outputs": [
    {
     "data": {
      "text/plain": "{1: 486, 0: 673, 6: 858, 3: 885}"
     },
     "execution_count": 34,
     "metadata": {},
     "output_type": "execute_result"
    }
   ],
   "source": [
    "images_to_generate"
   ],
   "metadata": {
    "collapsed": false,
    "ExecuteTime": {
     "end_time": "2024-03-21T20:48:37.267465300Z",
     "start_time": "2024-03-21T20:48:36.913453800Z"
    }
   },
   "id": "dcf9597086d970e4"
  },
  {
   "cell_type": "code",
   "execution_count": 35,
   "outputs": [],
   "source": [
    "generated_images = []\n",
    "generated_labels = []"
   ],
   "metadata": {
    "collapsed": false,
    "ExecuteTime": {
     "end_time": "2024-03-21T20:48:37.268469100Z",
     "start_time": "2024-03-21T20:48:36.926001200Z"
    }
   },
   "id": "515d4716eb6e0927"
  },
  {
   "cell_type": "code",
   "execution_count": 36,
   "outputs": [],
   "source": [
    "for label in labels_to_augment:\n",
    "    num_images = images_to_generate[label]\n",
    "    for _ in range(num_images):\n",
    "        augmented_batch = next(train_data)\n",
    "        augmented_images, augmented_labels = augmented_batch\n",
    "\n",
    "        for l in augmented_labels:\n",
    "            if l == label:\n",
    "                generated_images.append(augmented_images[0])\n",
    "                generated_labels.append(label)"
   ],
   "metadata": {
    "collapsed": false,
    "ExecuteTime": {
     "end_time": "2024-03-21T20:59:01.044176800Z",
     "start_time": "2024-03-21T20:48:36.942929300Z"
    }
   },
   "id": "fe5210402c2649d9"
  },
  {
   "cell_type": "code",
   "execution_count": 37,
   "outputs": [],
   "source": [
    "generated_images = np.array(generated_images)\n",
    "generated_images = [image.flatten() for image in generated_images]\n",
    "generated_images = np.array(generated_images)"
   ],
   "metadata": {
    "collapsed": false,
    "ExecuteTime": {
     "end_time": "2024-03-21T20:59:04.725898900Z",
     "start_time": "2024-03-21T20:59:01.029484800Z"
    }
   },
   "id": "db94f50798834ab5"
  },
  {
   "cell_type": "code",
   "execution_count": 38,
   "outputs": [],
   "source": [
    "X_train = np.concatenate((X_train, np.array(generated_images)))\n",
    "y_train = np.concatenate((y_train, np.array(generated_labels)))"
   ],
   "metadata": {
    "collapsed": false,
    "ExecuteTime": {
     "end_time": "2024-03-21T20:59:49.225564900Z",
     "start_time": "2024-03-21T20:59:04.734234800Z"
    }
   },
   "id": "efe4c1af7fb6435d"
  },
  {
   "cell_type": "code",
   "execution_count": 39,
   "outputs": [
    {
     "name": "stdout",
     "output_type": "stream",
     "text": [
      "________________________________________________________________________________\n",
      "[Memory] Calling __main__-C%3A-Users-natal-AppData-Local-Temp-ipykernel-1876427487.load_images_and_labels...\n",
      "load_images_and_labels(<keras.src.legacy.preprocessing.image.DirectoryIterator object at 0x000001CAA7C450D0>)\n",
      "__________________________________________load_images_and_labels - 19.9s, 0.3min\n"
     ]
    }
   ],
   "source": [
    "X_test, y_test = load_images_and_labels(test_data)"
   ],
   "metadata": {
    "collapsed": false,
    "ExecuteTime": {
     "end_time": "2024-03-21T21:00:09.784225500Z",
     "start_time": "2024-03-21T20:59:49.339556100Z"
    }
   },
   "id": "36ff10d30e43175b"
  },
  {
   "cell_type": "code",
   "execution_count": 40,
   "outputs": [],
   "source": [
    "@memory.cache\n",
    "def scale_train_data(X_train):\n",
    "    \"\"\"\n",
    "    fits and transforms scaler to X_train\n",
    "    :param X_train: features connected with train data\n",
    "    :return: scaled X_train and fitted and transformed scaler\n",
    "    \"\"\"\n",
    "    scaler = StandardScaler()  # create scaler instance\n",
    "    X_train_scaled = scaler.fit_transform(X_train)\n",
    "    return X_train_scaled, scaler"
   ],
   "metadata": {
    "collapsed": false,
    "ExecuteTime": {
     "end_time": "2024-03-21T21:00:09.906271Z",
     "start_time": "2024-03-21T21:00:09.786402900Z"
    }
   },
   "id": "cc6fbdc8dc6f5e4f"
  },
  {
   "cell_type": "code",
   "execution_count": 41,
   "outputs": [
    {
     "name": "stdout",
     "output_type": "stream",
     "text": [
      "________________________________________________________________________________\n",
      "[Memory] Calling __main__-C%3A-Users-natal-AppData-Local-Temp-ipykernel-2493734789.scale_train_data...\n",
      "scale_train_data(array([[196.4817 , ..., 161.00285],\n",
      "       ...,\n",
      "       [182.17737, ...,  17.6273 ]], dtype=float32))\n",
      "_______________________________________________scale_train_data - 217.2s, 3.6min\n"
     ]
    },
    {
     "name": "stderr",
     "output_type": "stream",
     "text": [
      "C:\\Users\\natal\\AppData\\Local\\Temp\\ipykernel_5468\\2958513691.py:1: UserWarning: Persisting input arguments took 19.44s to run.If this happens often in your code, it can cause performance problems (results will be correct in all cases). The reason for this is probably some large input arguments for a wrapped function.\n",
      "  X_train_scaled, scaler = scale_train_data(X_train)\n"
     ]
    }
   ],
   "source": [
    "X_train_scaled, scaler = scale_train_data(X_train)"
   ],
   "metadata": {
    "collapsed": false,
    "ExecuteTime": {
     "end_time": "2024-03-21T21:04:21.873963500Z",
     "start_time": "2024-03-21T21:00:09.886562900Z"
    }
   },
   "id": "2a7fba27e7c07368"
  },
  {
   "cell_type": "code",
   "execution_count": 42,
   "outputs": [],
   "source": [
    "@memory.cache\n",
    "def scale_test_data(X_test, scaler):\n",
    "    \"\"\"\n",
    "    fits and transforms scaler to X_test\n",
    "    :param X_test: features connected with test data\n",
    "    :param scaler: scaler instance\n",
    "    :return: scaled X_test\n",
    "    \"\"\"\n",
    "    X_test_scaled = scaler.transform(X_test)\n",
    "    return X_test_scaled"
   ],
   "metadata": {
    "collapsed": false,
    "ExecuteTime": {
     "end_time": "2024-03-21T21:04:22.046801400Z",
     "start_time": "2024-03-21T21:04:21.681069600Z"
    }
   },
   "id": "17756d9f110808fb"
  },
  {
   "cell_type": "code",
   "execution_count": 43,
   "outputs": [
    {
     "name": "stdout",
     "output_type": "stream",
     "text": [
      "________________________________________________________________________________\n",
      "[Memory] Calling __main__-C%3A-Users-natal-AppData-Local-Temp-ipykernel-1588998695.scale_test_data...\n",
      "scale_test_data(array([[160., ..., 143.],\n",
      "       ...,\n",
      "       [  0., ...,   0.]], dtype=float32), StandardScaler())\n",
      "__________________________________________________scale_test_data - 8.1s, 0.1min\n"
     ]
    },
    {
     "name": "stderr",
     "output_type": "stream",
     "text": [
      "C:\\Users\\natal\\AppData\\Local\\Temp\\ipykernel_5468\\4211434264.py:1: UserWarning: Persisting input arguments took 1.01s to run.If this happens often in your code, it can cause performance problems (results will be correct in all cases). The reason for this is probably some large input arguments for a wrapped function.\n",
      "  X_test_scaled = scale_test_data(X_test, scaler)\n"
     ]
    }
   ],
   "source": [
    "X_test_scaled = scale_test_data(X_test, scaler)"
   ],
   "metadata": {
    "collapsed": false,
    "ExecuteTime": {
     "end_time": "2024-03-21T21:04:37.965376800Z",
     "start_time": "2024-03-21T21:04:21.742759900Z"
    }
   },
   "id": "ab8a40ccedfcd074"
  },
  {
   "cell_type": "code",
   "execution_count": 44,
   "outputs": [],
   "source": [
    "random_pca = RandomizedPCA(\n",
    "    whiten=True, random_state=42, svd_solver=\"randomized\", n_components=150\n",
    ")  # create PCA instance with n_components equal to 150"
   ],
   "metadata": {
    "collapsed": false,
    "ExecuteTime": {
     "end_time": "2024-03-21T21:04:37.983411300Z",
     "start_time": "2024-03-21T21:04:37.969685500Z"
    }
   },
   "id": "7a8540de2ad44159"
  },
  {
   "cell_type": "code",
   "execution_count": 45,
   "outputs": [],
   "source": [
    "X_train_pca = random_pca.fit_transform(\n",
    "    X_train_scaled\n",
    ")  # fit to X_train in order to choose number of components\n",
    "X_test_pca = random_pca.transform(X_test_scaled)"
   ],
   "metadata": {
    "collapsed": false,
    "ExecuteTime": {
     "end_time": "2024-03-21T21:06:07.405207300Z",
     "start_time": "2024-03-21T21:04:37.989412100Z"
    }
   },
   "id": "cb3e54a7ba8bed48"
  },
  {
   "cell_type": "code",
   "execution_count": 46,
   "outputs": [
    {
     "data": {
      "text/plain": "0.9455694"
     },
     "execution_count": 46,
     "metadata": {},
     "output_type": "execute_result"
    }
   ],
   "source": [
    "random_pca.explained_variance_ratio_.sum()  # explains 95% of variance"
   ],
   "metadata": {
    "collapsed": false,
    "ExecuteTime": {
     "end_time": "2024-03-21T21:06:07.441244200Z",
     "start_time": "2024-03-21T21:06:07.395023Z"
    }
   },
   "id": "1399658c702e0449"
  },
  {
   "cell_type": "code",
   "execution_count": 47,
   "outputs": [],
   "source": [
    "pd.DataFrame(X_train_pca).to_csv(\n",
    "    \".\\\\DATA\\\\DataFrames\\\\X_train_pca.csv\", index=False\n",
    ")  # save X_train_pca\n",
    "pd.DataFrame(X_test_pca).to_csv(\n",
    "    \".\\\\DATA\\\\DataFrames\\\\X_test_pca.csv\", index=False\n",
    ")  # save X_test_pca"
   ],
   "metadata": {
    "collapsed": false,
    "ExecuteTime": {
     "end_time": "2024-03-21T21:44:57.581884900Z",
     "start_time": "2024-03-21T21:44:55.179235200Z"
    }
   },
   "id": "b75623a06c4a1c82"
  },
  {
   "cell_type": "code",
   "execution_count": 48,
   "outputs": [],
   "source": [
    "label_map = {\n",
    "    v: k for k, v in train_data.class_indices.items()\n",
    "}  # #map numerical labels to string diagnoses\n",
    "\n",
    "y_train_diagnosis = [label_map[label] for label in y_train]\n",
    "y_test_diagnosis = [\n",
    "    label_map[label] for label in y_test\n",
    "]  # convert numerical labels to string diagnoses for y_train and y_test\n",
    "\n",
    "y_train_diagnosis_df = pd.DataFrame(y_train_diagnosis, columns=[\"diagnosis\"])\n",
    "y_test_diagnosis_df = pd.DataFrame(y_test_diagnosis, columns=[\"diagnosis\"])\n",
    "\n",
    "y_train_diagnosis_df.to_csv(\".\\\\DATA\\\\DataFrames\\\\y_train_diagnosis.csv\", index=False)\n",
    "y_test_diagnosis_df.to_csv(\".\\\\DATA\\\\DataFrames\\\\y_test_diagnosis.csv\", index=False)"
   ],
   "metadata": {
    "collapsed": false,
    "ExecuteTime": {
     "end_time": "2024-03-21T21:52:13.401012200Z",
     "start_time": "2024-03-21T21:52:13.323315900Z"
    }
   },
   "id": "dce5b430829f2056"
  },
  {
   "cell_type": "code",
   "execution_count": null,
   "outputs": [],
   "source": [],
   "metadata": {
    "collapsed": false
   },
   "id": "71dcd4b4f2117a59"
  }
 ],
 "metadata": {
  "kernelspec": {
   "display_name": "Python 3",
   "language": "python",
   "name": "python3"
  },
  "language_info": {
   "codemirror_mode": {
    "name": "ipython",
    "version": 2
   },
   "file_extension": ".py",
   "mimetype": "text/x-python",
   "name": "python",
   "nbconvert_exporter": "python",
   "pygments_lexer": "ipython2",
   "version": "2.7.6"
  }
 },
 "nbformat": 4,
 "nbformat_minor": 5
}
