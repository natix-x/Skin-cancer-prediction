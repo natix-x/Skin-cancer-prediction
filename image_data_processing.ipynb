{
 "cells": [
  {
   "cell_type": "code",
   "execution_count": 1,
   "outputs": [],
   "source": [
    "import pandas as pd\n",
    "import os\n",
    "import shutil\n",
    "from tensorflow.keras.preprocessing.image import ImageDataGenerator\n",
    "from sklearn.model_selection import train_test_split\n",
    "from sklearn.decomposition import PCA\n",
    "from sklearn.preprocessing import StandardScaler\n",
    "import numpy as np\n",
    "import matplotlib.pyplot as plt"
   ],
   "metadata": {
    "collapsed": false,
    "ExecuteTime": {
     "end_time": "2024-03-13T13:19:20.150206200Z",
     "start_time": "2024-03-13T13:18:36.524101Z"
    }
   },
   "id": "557ff3db226756c8"
  },
  {
   "cell_type": "code",
   "execution_count": 2,
   "outputs": [],
   "source": [
    "data_dir = \".\\\\DATA\\\\HAM10000_images_part_1_and_2\"  # directory with all images"
   ],
   "metadata": {
    "collapsed": false,
    "ExecuteTime": {
     "end_time": "2024-03-13T13:19:20.151206600Z",
     "start_time": "2024-03-13T13:19:20.142206800Z"
    }
   },
   "id": "34f6ab01cc523274"
  },
  {
   "cell_type": "code",
   "execution_count": 3,
   "outputs": [],
   "source": [
    "dest_dir = \".\\\\DATA\\\\recognized\\\\\"  # directory where all images will be divided into subdirectories"
   ],
   "metadata": {
    "collapsed": false,
    "ExecuteTime": {
     "end_time": "2024-03-13T13:19:20.153206700Z",
     "start_time": "2024-03-13T13:19:20.142206800Z"
    }
   },
   "id": "eb79796f49af9e6a"
  },
  {
   "cell_type": "code",
   "execution_count": 4,
   "outputs": [],
   "source": [
    "df = pd.read_csv(\".\\\\DATA\\\\HAM10000_metadata\")  # read metadata"
   ],
   "metadata": {
    "collapsed": false,
    "ExecuteTime": {
     "end_time": "2024-03-13T13:19:20.249487100Z",
     "start_time": "2024-03-13T13:19:20.163207500Z"
    }
   },
   "id": "1f95dfe091496755"
  },
  {
   "cell_type": "code",
   "execution_count": 5,
   "outputs": [],
   "source": [
    "df = df.rename(columns={\"dx\": \"diagnosis\"})\n",
    "df = df[[\"image_id\", \"diagnosis\"]]"
   ],
   "metadata": {
    "collapsed": false,
    "ExecuteTime": {
     "end_time": "2024-03-13T13:19:20.323100400Z",
     "start_time": "2024-03-13T13:19:20.248486700Z"
    }
   },
   "id": "dbec364a666c8c57"
  },
  {
   "cell_type": "code",
   "execution_count": 6,
   "outputs": [],
   "source": [
    "for label in df[\"diagnosis\"].unique():\n",
    "    os.makedirs(\n",
    "        os.path.join(dest_dir, label), exist_ok=True\n",
    "    )  # make directory for each label"
   ],
   "metadata": {
    "collapsed": false,
    "ExecuteTime": {
     "end_time": "2024-03-13T13:19:20.350237300Z",
     "start_time": "2024-03-13T13:19:20.312021500Z"
    }
   },
   "id": "8759beed3b67e19b"
  },
  {
   "cell_type": "code",
   "execution_count": 7,
   "outputs": [],
   "source": [
    "for index, row in df.iterrows():\n",
    "    source_file = os.path.join(data_dir, f\"{row['image_id']}.jpg\")\n",
    "    destination_file = os.path.join(\n",
    "        dest_dir, row[\"diagnosis\"], f\"{row['image_id']}.jpg\"\n",
    "    )\n",
    "    shutil.copyfile(\n",
    "        source_file, destination_file\n",
    "    )  # copy image to defined earlier subdirectory"
   ],
   "metadata": {
    "collapsed": false,
    "ExecuteTime": {
     "end_time": "2024-03-13T13:21:22.280197300Z",
     "start_time": "2024-03-13T13:19:20.363235600Z"
    }
   },
   "id": "2bf080885c1ad0d4"
  },
  {
   "cell_type": "code",
   "execution_count": 8,
   "outputs": [],
   "source": [
    "datagen = ImageDataGenerator()  # initialize ImageDataGenerator"
   ],
   "metadata": {
    "collapsed": false,
    "ExecuteTime": {
     "end_time": "2024-03-13T13:21:22.306324100Z",
     "start_time": "2024-03-13T13:21:22.288198100Z"
    }
   },
   "id": "c9d0f21eaeb30b38"
  },
  {
   "cell_type": "code",
   "execution_count": 9,
   "outputs": [
    {
     "name": "stdout",
     "output_type": "stream",
     "text": [
      "Found 10015 images belonging to 7 classes.\n"
     ]
    }
   ],
   "source": [
    "images_data_keras = datagen.flow_from_directory(\n",
    "    directory=dest_dir,\n",
    "    class_mode=\"sparse\",\n",
    "    batch_size=16,\n",
    "    target_size=(200, 150),\n",
    ")  # load all images in 'rgb' format using batch approach"
   ],
   "metadata": {
    "collapsed": false,
    "ExecuteTime": {
     "end_time": "2024-03-13T13:21:23.328046900Z",
     "start_time": "2024-03-13T13:21:22.309329800Z"
    }
   },
   "id": "1aa159ba5c1565a9"
  },
  {
   "cell_type": "code",
   "execution_count": 10,
   "outputs": [],
   "source": [
    "X = []\n",
    "y = []\n",
    "for i in range(len(images_data_keras)):\n",
    "    images, labels = images_data_keras[i]\n",
    "    X.extend(images)\n",
    "    y.extend(labels)  # add images to X and labels to y"
   ],
   "metadata": {
    "collapsed": false,
    "ExecuteTime": {
     "end_time": "2024-03-13T13:25:37.049317200Z",
     "start_time": "2024-03-13T13:21:23.296749700Z"
    }
   },
   "id": "28ed59d41b37c646"
  },
  {
   "cell_type": "code",
   "execution_count": 11,
   "outputs": [],
   "source": [
    "X = np.array(X)"
   ],
   "metadata": {
    "collapsed": false,
    "ExecuteTime": {
     "end_time": "2024-03-13T13:26:11.703912900Z",
     "start_time": "2024-03-13T13:25:37.056683400Z"
    }
   },
   "id": "d87579128b2c9103"
  },
  {
   "cell_type": "code",
   "execution_count": 12,
   "outputs": [],
   "source": [
    "X = [image.flatten() for image in X]  # change np.array's dimension into one"
   ],
   "metadata": {
    "collapsed": false,
    "ExecuteTime": {
     "end_time": "2024-03-13T13:26:43.603955400Z",
     "start_time": "2024-03-13T13:26:11.730591600Z"
    }
   },
   "id": "b0726e373d2102f7"
  },
  {
   "cell_type": "code",
   "execution_count": 13,
   "outputs": [],
   "source": [
    "X = np.array(X)  # ensure that X is stored as np.array"
   ],
   "metadata": {
    "collapsed": false,
    "ExecuteTime": {
     "end_time": "2024-03-13T13:27:13.492159100Z",
     "start_time": "2024-03-13T13:26:43.595872Z"
    }
   },
   "id": "203aafbc569b8ea7"
  },
  {
   "cell_type": "code",
   "execution_count": 14,
   "outputs": [],
   "source": [
    "X_train, X_test, y_train, y_test = train_test_split(\n",
    "    X, y, test_size=0.2, random_state=42, stratify=y\n",
    ")  # divide data into train and test"
   ],
   "metadata": {
    "collapsed": false,
    "ExecuteTime": {
     "end_time": "2024-03-13T13:27:35.398766400Z",
     "start_time": "2024-03-13T13:27:13.534349400Z"
    }
   },
   "id": "322c21d45a668802"
  },
  {
   "cell_type": "code",
   "execution_count": 15,
   "outputs": [],
   "source": [
    "scaler = StandardScaler()  # create StandardScaler instance"
   ],
   "metadata": {
    "collapsed": false,
    "ExecuteTime": {
     "end_time": "2024-03-13T13:27:35.599542200Z",
     "start_time": "2024-03-13T13:27:35.496671100Z"
    }
   },
   "id": "1e8940f69e328658"
  },
  {
   "cell_type": "code",
   "execution_count": 16,
   "outputs": [],
   "source": [
    "X_train_scaled = scaler.fit_transform(X_train)"
   ],
   "metadata": {
    "collapsed": false,
    "ExecuteTime": {
     "end_time": "2024-03-13T13:30:48.407974700Z",
     "start_time": "2024-03-13T13:27:35.628971200Z"
    }
   },
   "id": "abdbf82e24ee00e"
  },
  {
   "cell_type": "code",
   "execution_count": 17,
   "outputs": [],
   "source": [
    "X_test_scaled = scaler.transform(X_test)"
   ],
   "metadata": {
    "collapsed": false,
    "ExecuteTime": {
     "end_time": "2024-03-13T13:30:54.468368200Z",
     "start_time": "2024-03-13T13:30:48.375739600Z"
    }
   },
   "id": "e98bbda6793d461b"
  },
  {
   "cell_type": "code",
   "execution_count": 18,
   "outputs": [],
   "source": [
    "pca = PCA()  # create PCA instance"
   ],
   "metadata": {
    "collapsed": false,
    "ExecuteTime": {
     "end_time": "2024-03-13T13:30:54.538325300Z",
     "start_time": "2024-03-13T13:30:54.478378400Z"
    }
   },
   "id": "99703fba3f421c99"
  },
  {
   "cell_type": "code",
   "execution_count": 19,
   "outputs": [
    {
     "data": {
      "text/plain": "PCA()",
      "text/html": "<style>#sk-container-id-1 {color: black;}#sk-container-id-1 pre{padding: 0;}#sk-container-id-1 div.sk-toggleable {background-color: white;}#sk-container-id-1 label.sk-toggleable__label {cursor: pointer;display: block;width: 100%;margin-bottom: 0;padding: 0.3em;box-sizing: border-box;text-align: center;}#sk-container-id-1 label.sk-toggleable__label-arrow:before {content: \"▸\";float: left;margin-right: 0.25em;color: #696969;}#sk-container-id-1 label.sk-toggleable__label-arrow:hover:before {color: black;}#sk-container-id-1 div.sk-estimator:hover label.sk-toggleable__label-arrow:before {color: black;}#sk-container-id-1 div.sk-toggleable__content {max-height: 0;max-width: 0;overflow: hidden;text-align: left;background-color: #f0f8ff;}#sk-container-id-1 div.sk-toggleable__content pre {margin: 0.2em;color: black;border-radius: 0.25em;background-color: #f0f8ff;}#sk-container-id-1 input.sk-toggleable__control:checked~div.sk-toggleable__content {max-height: 200px;max-width: 100%;overflow: auto;}#sk-container-id-1 input.sk-toggleable__control:checked~label.sk-toggleable__label-arrow:before {content: \"▾\";}#sk-container-id-1 div.sk-estimator input.sk-toggleable__control:checked~label.sk-toggleable__label {background-color: #d4ebff;}#sk-container-id-1 div.sk-label input.sk-toggleable__control:checked~label.sk-toggleable__label {background-color: #d4ebff;}#sk-container-id-1 input.sk-hidden--visually {border: 0;clip: rect(1px 1px 1px 1px);clip: rect(1px, 1px, 1px, 1px);height: 1px;margin: -1px;overflow: hidden;padding: 0;position: absolute;width: 1px;}#sk-container-id-1 div.sk-estimator {font-family: monospace;background-color: #f0f8ff;border: 1px dotted black;border-radius: 0.25em;box-sizing: border-box;margin-bottom: 0.5em;}#sk-container-id-1 div.sk-estimator:hover {background-color: #d4ebff;}#sk-container-id-1 div.sk-parallel-item::after {content: \"\";width: 100%;border-bottom: 1px solid gray;flex-grow: 1;}#sk-container-id-1 div.sk-label:hover label.sk-toggleable__label {background-color: #d4ebff;}#sk-container-id-1 div.sk-serial::before {content: \"\";position: absolute;border-left: 1px solid gray;box-sizing: border-box;top: 0;bottom: 0;left: 50%;z-index: 0;}#sk-container-id-1 div.sk-serial {display: flex;flex-direction: column;align-items: center;background-color: white;padding-right: 0.2em;padding-left: 0.2em;position: relative;}#sk-container-id-1 div.sk-item {position: relative;z-index: 1;}#sk-container-id-1 div.sk-parallel {display: flex;align-items: stretch;justify-content: center;background-color: white;position: relative;}#sk-container-id-1 div.sk-item::before, #sk-container-id-1 div.sk-parallel-item::before {content: \"\";position: absolute;border-left: 1px solid gray;box-sizing: border-box;top: 0;bottom: 0;left: 50%;z-index: -1;}#sk-container-id-1 div.sk-parallel-item {display: flex;flex-direction: column;z-index: 1;position: relative;background-color: white;}#sk-container-id-1 div.sk-parallel-item:first-child::after {align-self: flex-end;width: 50%;}#sk-container-id-1 div.sk-parallel-item:last-child::after {align-self: flex-start;width: 50%;}#sk-container-id-1 div.sk-parallel-item:only-child::after {width: 0;}#sk-container-id-1 div.sk-dashed-wrapped {border: 1px dashed gray;margin: 0 0.4em 0.5em 0.4em;box-sizing: border-box;padding-bottom: 0.4em;background-color: white;}#sk-container-id-1 div.sk-label label {font-family: monospace;font-weight: bold;display: inline-block;line-height: 1.2em;}#sk-container-id-1 div.sk-label-container {text-align: center;}#sk-container-id-1 div.sk-container {/* jupyter's `normalize.less` sets `[hidden] { display: none; }` but bootstrap.min.css set `[hidden] { display: none !important; }` so we also need the `!important` here to be able to override the default hidden behavior on the sphinx rendered scikit-learn.org. See: https://github.com/scikit-learn/scikit-learn/issues/21755 */display: inline-block !important;position: relative;}#sk-container-id-1 div.sk-text-repr-fallback {display: none;}</style><div id=\"sk-container-id-1\" class=\"sk-top-container\"><div class=\"sk-text-repr-fallback\"><pre>PCA()</pre><b>In a Jupyter environment, please rerun this cell to show the HTML representation or trust the notebook. <br />On GitHub, the HTML representation is unable to render, please try loading this page with nbviewer.org.</b></div><div class=\"sk-container\" hidden><div class=\"sk-item\"><div class=\"sk-estimator sk-toggleable\"><input class=\"sk-toggleable__control sk-hidden--visually\" id=\"sk-estimator-id-1\" type=\"checkbox\" checked><label for=\"sk-estimator-id-1\" class=\"sk-toggleable__label sk-toggleable__label-arrow\">PCA</label><div class=\"sk-toggleable__content\"><pre>PCA()</pre></div></div></div></div></div>"
     },
     "execution_count": 19,
     "metadata": {},
     "output_type": "execute_result"
    }
   ],
   "source": [
    "pca.fit(X_train)  # fit to X_train in order to choose number of components"
   ],
   "metadata": {
    "collapsed": false,
    "ExecuteTime": {
     "end_time": "2024-03-13T13:48:39.690877100Z",
     "start_time": "2024-03-13T13:30:54.510564600Z"
    }
   },
   "id": "870c3c4a718634a7"
  },
  {
   "cell_type": "code",
   "execution_count": 20,
   "outputs": [
    {
     "data": {
      "text/plain": "<Figure size 800x500 with 1 Axes>",
      "image/png": "[encoded data removed]"
     },
     "metadata": {},
     "output_type": "display_data"
    }
   ],
   "source": [
    "plt.rcParams[\"figure.figsize\"] = (8, 5)\n",
    "\n",
    "fig, ax = plt.subplots()\n",
    "xi = np.arange(1, 8013, step=1)\n",
    "y = np.cumsum(pca.explained_variance_ratio_)\n",
    "\n",
    "plt.ylim(0.0, 1.1)\n",
    "plt.plot(xi, y, marker=\"o\", linestyle=\"-\", color=\"black\")\n",
    "\n",
    "plt.xlabel(\"Number of Components\")\n",
    "plt.xticks(np.arange(0, 8013, step=10))\n",
    "plt.ylabel(\"Cumulative variance (%)\")\n",
    "plt.title(\"The number of components needed to explain variance\")\n",
    "\n",
    "plt.axhline(y=0.95, color=\"grey\", linestyle=\"--\")\n",
    "plt.text(1.1, 1, \"95% cut-off threshold\", color=\"black\", fontsize=16)\n",
    "plt.xlim(0, 220)\n",
    "ax.grid(axis=\"x\")\n",
    "plt.tight_layout();  # n_components = 150 explain 95% of variance"
   ],
   "metadata": {
    "collapsed": false,
    "ExecuteTime": {
     "end_time": "2024-03-13T13:48:46.642827100Z",
     "start_time": "2024-03-13T13:48:39.370572900Z"
    }
   },
   "id": "258653500ee61885"
  },
  {
   "cell_type": "code",
   "execution_count": 21,
   "outputs": [],
   "source": [
    "pca = PCA(n_components=150)  # Specify the number of components\n",
    "X_train_pca = pca.fit_transform(X_train_scaled)\n",
    "X_test_pca = pca.transform(X_test_scaled)"
   ],
   "metadata": {
    "collapsed": false,
    "ExecuteTime": {
     "end_time": "2024-03-13T13:50:21.545681200Z",
     "start_time": "2024-03-13T13:48:46.571992100Z"
    }
   },
   "id": "c0b1c0be4dde7920"
  },
  {
   "cell_type": "code",
   "execution_count": 22,
   "outputs": [],
   "source": [
    "pd.DataFrame(X_train_pca).to_csv(\n",
    "    \".\\\\DATA\\\\DataFrames\\\\X_train_pca.csv\", index=False\n",
    ")  # save X_train_pca\n",
    "pd.DataFrame(X_test_pca).to_csv(\n",
    "    \".\\\\DATA\\\\DataFrames\\\\X_test_pca.csv\", index=False\n",
    ")  # save X_test_pca"
   ],
   "metadata": {
    "collapsed": false,
    "ExecuteTime": {
     "end_time": "2024-03-13T13:50:23.308553Z",
     "start_time": "2024-03-13T13:50:21.525376200Z"
    }
   },
   "id": "b75623a06c4a1c82"
  },
  {
   "cell_type": "code",
   "execution_count": 23,
   "outputs": [],
   "source": [
    "label_map = {\n",
    "    v: k for k, v in images_data_keras.class_indices.items()\n",
    "}  # #map numerical labels to string diagnoses\n",
    "\n",
    "y_train_diagnosis = [label_map[label] for label in y_train]\n",
    "y_test_diagnosis = [\n",
    "    label_map[label] for label in y_test\n",
    "]  # convert numerical labels to string diagnoses for y_train and y_test\n",
    "\n",
    "y_train_diagnosis_df = pd.DataFrame(y_train_diagnosis, columns=[\"diagnosis\"])\n",
    "y_test_diagnosis_df = pd.DataFrame(y_test_diagnosis, columns=[\"diagnosis\"])\n",
    "\n",
    "y_train_diagnosis_df.to_csv(\".\\\\DATA\\\\DataFrames\\\\y_train_diagnosis.csv\", index=False)\n",
    "y_test_diagnosis_df.to_csv(\".\\\\DATA\\\\DataFrames\\\\y_test_diagnosis.csv\", index=False)"
   ],
   "metadata": {
    "collapsed": false,
    "ExecuteTime": {
     "end_time": "2024-03-13T13:50:23.460840900Z",
     "start_time": "2024-03-13T13:50:23.319759500Z"
    }
   },
   "id": "dce5b430829f2056"
  }
 ],
 "metadata": {
  "kernelspec": {
   "display_name": "Python 3",
   "language": "python",
   "name": "python3"
  },
  "language_info": {
   "codemirror_mode": {
    "name": "ipython",
    "version": 2
   },
   "file_extension": ".py",
   "mimetype": "text/x-python",
   "name": "python",
   "nbconvert_exporter": "python",
   "pygments_lexer": "ipython2",
   "version": "2.7.6"
  }
 },
 "nbformat": 4,
 "nbformat_minor": 5
}
