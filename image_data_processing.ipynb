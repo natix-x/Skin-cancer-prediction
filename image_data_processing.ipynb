{
 "cells": [
  {
   "cell_type": "code",
   "execution_count": 39,
   "outputs": [],
   "source": [
    "import pandas as pd\n",
    "import os\n",
    "import shutil\n",
    "from tensorflow.keras.preprocessing.image import ImageDataGenerator\n",
    "from sklearn.model_selection import train_test_split\n",
    "from sklearn.decomposition import PCA\n",
    "from sklearn.preprocessing import StandardScaler\n",
    "import numpy as np\n",
    "import matplotlib.pyplot as plt"
   ],
   "metadata": {
    "collapsed": false,
    "ExecuteTime": {
     "end_time": "2024-03-12T11:05:39.984480300Z",
     "start_time": "2024-03-12T11:05:39.958829900Z"
    }
   },
   "id": "557ff3db226756c8"
  },
  {
   "cell_type": "code",
   "execution_count": 40,
   "outputs": [],
   "source": [
    "data_dir = \".\\\\DATA\\\\HAM10000_images_part_1_and_2\"  # directory with all images"
   ],
   "metadata": {
    "collapsed": false,
    "ExecuteTime": {
     "end_time": "2024-03-12T11:05:40.512228500Z",
     "start_time": "2024-03-12T11:05:40.502274100Z"
    }
   },
   "id": "34f6ab01cc523274"
  },
  {
   "cell_type": "code",
   "execution_count": 41,
   "outputs": [],
   "source": [
    "dest_dir = \".\\\\DATA\\\\recognized\\\\\"  # directory where all images will be divided into subdirectories "
   ],
   "metadata": {
    "collapsed": false,
    "ExecuteTime": {
     "end_time": "2024-03-12T11:05:41.230046600Z",
     "start_time": "2024-03-12T11:05:41.226059100Z"
    }
   },
   "id": "eb79796f49af9e6a"
  },
  {
   "cell_type": "code",
   "execution_count": 42,
   "outputs": [],
   "source": [
    "df = pd.read_csv(\".\\\\DATA\\\\HAM10000_metadata\")  # read metadata"
   ],
   "metadata": {
    "collapsed": false,
    "ExecuteTime": {
     "end_time": "2024-03-12T11:05:41.713102Z",
     "start_time": "2024-03-12T11:05:41.663271200Z"
    }
   },
   "id": "1f95dfe091496755"
  },
  {
   "cell_type": "code",
   "execution_count": 43,
   "outputs": [],
   "source": [
    "df = df.rename(columns={\"dx\": \"diagnosis\"})\n",
    "df = df[[\"image_id\", \"diagnosis\"]]"
   ],
   "metadata": {
    "collapsed": false,
    "ExecuteTime": {
     "end_time": "2024-03-12T11:05:42.072575Z",
     "start_time": "2024-03-12T11:05:42.060346300Z"
    }
   },
   "id": "dbec364a666c8c57"
  },
  {
   "cell_type": "code",
   "execution_count": 44,
   "outputs": [],
   "source": [
    "for label in df['diagnosis'].unique():\n",
    "    os.makedirs(os.path.join(dest_dir, label), exist_ok=True)  # make directory for each label"
   ],
   "metadata": {
    "collapsed": false,
    "ExecuteTime": {
     "end_time": "2024-03-12T11:05:42.638751Z",
     "start_time": "2024-03-12T11:05:42.624209900Z"
    }
   },
   "id": "8759beed3b67e19b"
  },
  {
   "cell_type": "code",
   "execution_count": 45,
   "outputs": [],
   "source": [
    "for index, row in df.iterrows():\n",
    "    source_file = os.path.join(data_dir, f\"{row['image_id']}.jpg\")\n",
    "    destination_file = os.path.join(dest_dir, row['diagnosis'], f\"{row['image_id']}.jpg\")\n",
    "    shutil.copyfile(source_file, destination_file)  # copy image to defined earlier subdirectory "
   ],
   "metadata": {
    "collapsed": false,
    "ExecuteTime": {
     "end_time": "2024-03-12T11:06:17.969299500Z",
     "start_time": "2024-03-12T11:05:43.180015900Z"
    }
   },
   "id": "2bf080885c1ad0d4"
  },
  {
   "cell_type": "code",
   "execution_count": 46,
   "outputs": [],
   "source": [
    "datagen = ImageDataGenerator()  # initialize ImageDataGenerator"
   ],
   "metadata": {
    "collapsed": false,
    "ExecuteTime": {
     "end_time": "2024-03-12T11:06:17.980266700Z",
     "start_time": "2024-03-12T11:06:17.972292300Z"
    }
   },
   "id": "c9d0f21eaeb30b38"
  },
  {
   "cell_type": "code",
   "execution_count": 47,
   "outputs": [
    {
     "name": "stdout",
     "output_type": "stream",
     "text": [
      "Found 10015 images belonging to 7 classes.\n"
     ]
    }
   ],
   "source": [
    "images_data_keras = datagen.flow_from_directory(\n",
    "    directory=dest_dir,\n",
    "    class_mode='categorical',\n",
    "    batch_size=16,  \n",
    "    target_size=(200, 150),\n",
    ")  # load all images in 'rgb' format using batch approach"
   ],
   "metadata": {
    "collapsed": false,
    "ExecuteTime": {
     "end_time": "2024-03-12T11:06:18.745092100Z",
     "start_time": "2024-03-12T11:06:17.980266700Z"
    }
   },
   "id": "1aa159ba5c1565a9"
  },
  {
   "cell_type": "code",
   "execution_count": 48,
   "outputs": [],
   "source": [
    "X = []\n",
    "y = []\n",
    "for i in range(len(images_data_keras)):\n",
    "    images, labels = images_data_keras[i]\n",
    "    X.extend(images)\n",
    "    y.extend(labels)  # add images to X and labels to y"
   ],
   "metadata": {
    "collapsed": false,
    "ExecuteTime": {
     "end_time": "2024-03-12T11:09:23.489119300Z",
     "start_time": "2024-03-12T11:06:21.576558200Z"
    }
   },
   "id": "28ed59d41b37c646"
  },
  {
   "cell_type": "code",
   "execution_count": 49,
   "outputs": [],
   "source": [
    "X = np.array(X)"
   ],
   "metadata": {
    "collapsed": false,
    "ExecuteTime": {
     "end_time": "2024-03-12T11:10:16.239455600Z",
     "start_time": "2024-03-12T11:09:29.128171900Z"
    }
   },
   "id": "d87579128b2c9103"
  },
  {
   "cell_type": "code",
   "execution_count": 50,
   "outputs": [],
   "source": [
    "X = [image.flatten() for image in X]  # change np.array's dimension into one"
   ],
   "metadata": {
    "collapsed": false,
    "ExecuteTime": {
     "end_time": "2024-03-12T11:11:36.486067800Z",
     "start_time": "2024-03-12T11:11:09.465920700Z"
    }
   },
   "id": "b0726e373d2102f7"
  },
  {
   "cell_type": "code",
   "execution_count": 51,
   "outputs": [],
   "source": [
    "X = np.array(X)  # ensure that X is stored as np.array"
   ],
   "metadata": {
    "collapsed": false,
    "ExecuteTime": {
     "end_time": "2024-03-12T11:12:26.326743100Z",
     "start_time": "2024-03-12T11:11:46.183090200Z"
    }
   },
   "id": "203aafbc569b8ea7"
  },
  {
   "cell_type": "code",
   "execution_count": 52,
   "outputs": [],
   "source": [
    "X_train, X_test, y_train, y_test = train_test_split(X, y, test_size=0.2, random_state=42)  # divide data into train and test "
   ],
   "metadata": {
    "collapsed": false,
    "ExecuteTime": {
     "end_time": "2024-03-12T11:12:55.028719500Z",
     "start_time": "2024-03-12T11:12:26.363298900Z"
    }
   },
   "id": "322c21d45a668802"
  },
  {
   "cell_type": "code",
   "execution_count": 53,
   "outputs": [],
   "source": [
    "scaler = StandardScaler()  # create StandardScaler instance"
   ],
   "metadata": {
    "collapsed": false,
    "ExecuteTime": {
     "end_time": "2024-03-12T11:12:58.415965400Z",
     "start_time": "2024-03-12T11:12:58.202159200Z"
    }
   },
   "id": "1e8940f69e328658"
  },
  {
   "cell_type": "code",
   "execution_count": 54,
   "outputs": [],
   "source": [
    "X_train_scaled = scaler.fit_transform(X_train)"
   ],
   "metadata": {
    "collapsed": false,
    "ExecuteTime": {
     "end_time": "2024-03-12T11:16:46.864168Z",
     "start_time": "2024-03-12T11:12:59.797723800Z"
    }
   },
   "id": "abdbf82e24ee00e"
  },
  {
   "cell_type": "code",
   "execution_count": 55,
   "outputs": [],
   "source": [
    "X_test_scaled = scaler.transform(X_test)"
   ],
   "metadata": {
    "collapsed": false,
    "ExecuteTime": {
     "end_time": "2024-03-12T11:16:57.455679Z",
     "start_time": "2024-03-12T11:16:50.882664800Z"
    }
   },
   "id": "e98bbda6793d461b"
  },
  {
   "cell_type": "code",
   "execution_count": 56,
   "outputs": [],
   "source": [
    "pca = PCA()  # create PCA instance"
   ],
   "metadata": {
    "collapsed": false,
    "ExecuteTime": {
     "end_time": "2024-03-12T11:17:03.530970Z",
     "start_time": "2024-03-12T11:17:03.423695300Z"
    }
   },
   "id": "99703fba3f421c99"
  },
  {
   "cell_type": "code",
   "execution_count": 57,
   "outputs": [],
   "source": [
    "pca.fit(X_train)  # fit to X_train in order to choose number of components"
   ],
   "metadata": {
    "collapsed": false,
    "ExecuteTime": {
     "end_time": "2024-03-12T11:34:49.181935600Z",
     "start_time": "2024-03-12T11:17:04.605207900Z"
    }
   },
   "id": "870c3c4a718634a7"
  },
  {
   "cell_type": "code",
   "execution_count": 62,
   "outputs": [
    {
     "data": {
      "text/plain": "<Figure size 800x500 with 1 Axes>",
      "image/png": "[encoded data removed]"
     },
     "metadata": {},
     "output_type": "display_data"
    }
   ],
   "source": [
    "\n",
    "plt.rcParams[\"figure.figsize\"] = (8,5)\n",
    "\n",
    "fig, ax = plt.subplots()\n",
    "xi = np.arange(1, 8013, step=1)\n",
    "y = np.cumsum(pca.explained_variance_ratio_)\n",
    "\n",
    "plt.ylim(0.0,1.1)\n",
    "plt.plot(xi, y, marker='o', linestyle='-', color='black')\n",
    "\n",
    "plt.xlabel('Number of Components')\n",
    "plt.xticks(np.arange(0, 8013, step=10)) \n",
    "plt.ylabel('Cumulative variance (%)')\n",
    "plt.title('The number of components needed to explain variance')\n",
    "\n",
    "plt.axhline(y=0.95, color='grey', linestyle='--')\n",
    "plt.text(1.1, 1, '95% cut-off threshold', color = 'black', fontsize=16)\n",
    "plt.xlim(0,220)\n",
    "ax.grid(axis='x')\n",
    "plt.tight_layout();  # n_components = 150 explain 95% of variance"
   ],
   "metadata": {
    "collapsed": false,
    "ExecuteTime": {
     "end_time": "2024-03-12T11:39:55.527580500Z",
     "start_time": "2024-03-12T11:39:53.520832Z"
    }
   },
   "id": "258653500ee61885"
  },
  {
   "cell_type": "code",
   "execution_count": 63,
   "outputs": [],
   "source": [
    "pca = PCA(n_components=150)  # Specify the number of components\n",
    "X_train_pca = pca.fit_transform(X_train_scaled)  \n",
    "X_test_pca = pca.transform(X_test_scaled)  "
   ],
   "metadata": {
    "collapsed": false,
    "ExecuteTime": {
     "end_time": "2024-03-12T11:42:35.541716100Z",
     "start_time": "2024-03-12T11:40:24.297119900Z"
    }
   },
   "id": "c0b1c0be4dde7920"
  }
 ],
 "metadata": {
  "kernelspec": {
   "display_name": "Python 3",
   "language": "python",
   "name": "python3"
  },
  "language_info": {
   "codemirror_mode": {
    "name": "ipython",
    "version": 2
   },
   "file_extension": ".py",
   "mimetype": "text/x-python",
   "name": "python",
   "nbconvert_exporter": "python",
   "pygments_lexer": "ipython2",
   "version": "2.7.6"
  }
 },
 "nbformat": 4,
 "nbformat_minor": 5
}
