{
 "cells": [
  {
   "cell_type": "code",
   "execution_count": 3,
   "id": "initial_id",
   "metadata": {
    "collapsed": true,
    "ExecuteTime": {
     "end_time": "2024-01-12T14:43:28.656227900Z",
     "start_time": "2024-01-12T14:43:24.125319Z"
    }
   },
   "outputs": [],
   "source": [
    "import cv2\n",
    "import os\n",
    "import pandas as pd\n",
    "import numpy as np"
   ]
  },
  {
   "cell_type": "code",
   "execution_count": 4,
   "outputs": [],
   "source": [
    "df = pd.read_csv(\".\\\\DATA\\\\HAM10000_metadata\")"
   ],
   "metadata": {
    "collapsed": false,
    "ExecuteTime": {
     "end_time": "2024-01-12T14:43:28.684756Z",
     "start_time": "2024-01-12T14:43:28.656227900Z"
    }
   },
   "id": "8b64ee07400744e1"
  },
  {
   "cell_type": "code",
   "execution_count": 5,
   "outputs": [
    {
     "data": {
      "text/plain": "     lesion_id      image_id   dx dx_type   age   sex localization  \\\n0  HAM_0000118  ISIC_0027419  bkl   histo  80.0  male        scalp   \n1  HAM_0000118  ISIC_0025030  bkl   histo  80.0  male        scalp   \n2  HAM_0002730  ISIC_0026769  bkl   histo  80.0  male        scalp   \n3  HAM_0002730  ISIC_0025661  bkl   histo  80.0  male        scalp   \n4  HAM_0001466  ISIC_0031633  bkl   histo  75.0  male          ear   \n\n        dataset  \n0  vidir_modern  \n1  vidir_modern  \n2  vidir_modern  \n3  vidir_modern  \n4  vidir_modern  ",
      "text/html": "<div>\n<style scoped>\n    .dataframe tbody tr th:only-of-type {\n        vertical-align: middle;\n    }\n\n    .dataframe tbody tr th {\n        vertical-align: top;\n    }\n\n    .dataframe thead th {\n        text-align: right;\n    }\n</style>\n<table border=\"1\" class=\"dataframe\">\n  <thead>\n    <tr style=\"text-align: right;\">\n      <th></th>\n      <th>lesion_id</th>\n      <th>image_id</th>\n      <th>dx</th>\n      <th>dx_type</th>\n      <th>age</th>\n      <th>sex</th>\n      <th>localization</th>\n      <th>dataset</th>\n    </tr>\n  </thead>\n  <tbody>\n    <tr>\n      <th>0</th>\n      <td>HAM_0000118</td>\n      <td>ISIC_0027419</td>\n      <td>bkl</td>\n      <td>histo</td>\n      <td>80.0</td>\n      <td>male</td>\n      <td>scalp</td>\n      <td>vidir_modern</td>\n    </tr>\n    <tr>\n      <th>1</th>\n      <td>HAM_0000118</td>\n      <td>ISIC_0025030</td>\n      <td>bkl</td>\n      <td>histo</td>\n      <td>80.0</td>\n      <td>male</td>\n      <td>scalp</td>\n      <td>vidir_modern</td>\n    </tr>\n    <tr>\n      <th>2</th>\n      <td>HAM_0002730</td>\n      <td>ISIC_0026769</td>\n      <td>bkl</td>\n      <td>histo</td>\n      <td>80.0</td>\n      <td>male</td>\n      <td>scalp</td>\n      <td>vidir_modern</td>\n    </tr>\n    <tr>\n      <th>3</th>\n      <td>HAM_0002730</td>\n      <td>ISIC_0025661</td>\n      <td>bkl</td>\n      <td>histo</td>\n      <td>80.0</td>\n      <td>male</td>\n      <td>scalp</td>\n      <td>vidir_modern</td>\n    </tr>\n    <tr>\n      <th>4</th>\n      <td>HAM_0001466</td>\n      <td>ISIC_0031633</td>\n      <td>bkl</td>\n      <td>histo</td>\n      <td>75.0</td>\n      <td>male</td>\n      <td>ear</td>\n      <td>vidir_modern</td>\n    </tr>\n  </tbody>\n</table>\n</div>"
     },
     "execution_count": 5,
     "metadata": {},
     "output_type": "execute_result"
    }
   ],
   "source": [
    "df.head()"
   ],
   "metadata": {
    "collapsed": false,
    "ExecuteTime": {
     "end_time": "2024-01-12T14:43:29.586647700Z",
     "start_time": "2024-01-12T14:43:29.558002400Z"
    }
   },
   "id": "a19db973dc97efce"
  },
  {
   "cell_type": "code",
   "execution_count": 6,
   "outputs": [],
   "source": [
    "df = df.rename(columns={\"dx\": \"diagnosis\"})\n",
    "df = df[[\"image_id\", \"diagnosis\"]]"
   ],
   "metadata": {
    "collapsed": false,
    "ExecuteTime": {
     "end_time": "2024-01-12T14:43:30.504222100Z",
     "start_time": "2024-01-12T14:43:30.386783Z"
    }
   },
   "id": "f07ea9c10e3f9059"
  },
  {
   "cell_type": "code",
   "execution_count": 7,
   "outputs": [],
   "source": [
    "data_dir = \".\\\\DATA\\\\HAM10000_images_part_1_and_2\""
   ],
   "metadata": {
    "collapsed": false,
    "ExecuteTime": {
     "end_time": "2024-01-12T14:43:31.353249100Z",
     "start_time": "2024-01-12T14:43:31.325465Z"
    }
   },
   "id": "6c07701f5c88950c"
  },
  {
   "cell_type": "code",
   "execution_count": 8,
   "outputs": [],
   "source": [
    "names = os.listdir(data_dir)\n",
    "for idx in range(len(names)):\n",
    "    names[idx] = names[idx].split(\".\")[0]"
   ],
   "metadata": {
    "collapsed": false,
    "ExecuteTime": {
     "end_time": "2024-01-12T14:43:32.418511800Z",
     "start_time": "2024-01-12T14:43:32.069455500Z"
    }
   },
   "id": "e0b0cca9760ef410"
  },
  {
   "cell_type": "code",
   "execution_count": 9,
   "outputs": [],
   "source": [
    "paths = []\n",
    "for image in os.listdir(data_dir):\n",
    "    path = os.path.join(data_dir, image)\n",
    "    paths.append(path)"
   ],
   "metadata": {
    "collapsed": false,
    "ExecuteTime": {
     "end_time": "2024-01-12T14:43:33.166208Z",
     "start_time": "2024-01-12T14:43:32.960591800Z"
    }
   },
   "id": "d1a7b18c7864f8d"
  },
  {
   "cell_type": "code",
   "execution_count": 10,
   "outputs": [],
   "source": [
    "image_path = dict(zip(names, paths))"
   ],
   "metadata": {
    "collapsed": false,
    "ExecuteTime": {
     "end_time": "2024-01-12T14:43:33.765460800Z",
     "start_time": "2024-01-12T14:43:33.730259400Z"
    }
   },
   "id": "511ac4d5788e8f66"
  },
  {
   "cell_type": "code",
   "execution_count": 11,
   "outputs": [],
   "source": [
    "df[\"image_path\"] = df[\"image_id\"].map(image_path.get)"
   ],
   "metadata": {
    "collapsed": false,
    "ExecuteTime": {
     "end_time": "2024-01-12T14:43:34.513864900Z",
     "start_time": "2024-01-12T14:43:34.483021600Z"
    }
   },
   "id": "1f2f79427e178c62"
  },
  {
   "cell_type": "code",
   "execution_count": 12,
   "outputs": [],
   "source": [
    "df[\"image\"] = df[\"image_path\"].map(lambda x: np.array(cv2.imread(x)).flatten())\n",
    "# convert RGB image to one dimensional array of pixels"
   ],
   "metadata": {
    "collapsed": false,
    "ExecuteTime": {
     "end_time": "2024-01-12T14:45:30.675853600Z",
     "start_time": "2024-01-12T14:43:35.356440500Z"
    }
   },
   "id": "dd16f1c984646b34"
  },
  {
   "cell_type": "code",
   "execution_count": 13,
   "outputs": [
    {
     "data": {
      "text/plain": "       image_id diagnosis                                         image_path  \\\n0  ISIC_0027419       bkl  .\\DATA\\HAM10000_images_part_1_and_2\\ISIC_00274...   \n1  ISIC_0025030       bkl  .\\DATA\\HAM10000_images_part_1_and_2\\ISIC_00250...   \n2  ISIC_0026769       bkl  .\\DATA\\HAM10000_images_part_1_and_2\\ISIC_00267...   \n3  ISIC_0025661       bkl  .\\DATA\\HAM10000_images_part_1_and_2\\ISIC_00256...   \n4  ISIC_0031633       bkl  .\\DATA\\HAM10000_images_part_1_and_2\\ISIC_00316...   \n\n                                               image  \n0  [191, 147, 188, 189, 148, 186, 191, 150, 187, ...  \n1  [23, 15, 25, 22, 14, 25, 22, 14, 25, 22, 14, 2...  \n2  [140, 128, 186, 136, 128, 188, 133, 126, 183, ...  \n3  [16, 9, 24, 15, 11, 22, 15, 11, 23, 16, 11, 26...  \n4  [102, 80, 122, 104, 82, 124, 106, 83, 127, 109...  ",
      "text/html": "<div>\n<style scoped>\n    .dataframe tbody tr th:only-of-type {\n        vertical-align: middle;\n    }\n\n    .dataframe tbody tr th {\n        vertical-align: top;\n    }\n\n    .dataframe thead th {\n        text-align: right;\n    }\n</style>\n<table border=\"1\" class=\"dataframe\">\n  <thead>\n    <tr style=\"text-align: right;\">\n      <th></th>\n      <th>image_id</th>\n      <th>diagnosis</th>\n      <th>image_path</th>\n      <th>image</th>\n    </tr>\n  </thead>\n  <tbody>\n    <tr>\n      <th>0</th>\n      <td>ISIC_0027419</td>\n      <td>bkl</td>\n      <td>.\\DATA\\HAM10000_images_part_1_and_2\\ISIC_00274...</td>\n      <td>[191, 147, 188, 189, 148, 186, 191, 150, 187, ...</td>\n    </tr>\n    <tr>\n      <th>1</th>\n      <td>ISIC_0025030</td>\n      <td>bkl</td>\n      <td>.\\DATA\\HAM10000_images_part_1_and_2\\ISIC_00250...</td>\n      <td>[23, 15, 25, 22, 14, 25, 22, 14, 25, 22, 14, 2...</td>\n    </tr>\n    <tr>\n      <th>2</th>\n      <td>ISIC_0026769</td>\n      <td>bkl</td>\n      <td>.\\DATA\\HAM10000_images_part_1_and_2\\ISIC_00267...</td>\n      <td>[140, 128, 186, 136, 128, 188, 133, 126, 183, ...</td>\n    </tr>\n    <tr>\n      <th>3</th>\n      <td>ISIC_0025661</td>\n      <td>bkl</td>\n      <td>.\\DATA\\HAM10000_images_part_1_and_2\\ISIC_00256...</td>\n      <td>[16, 9, 24, 15, 11, 22, 15, 11, 23, 16, 11, 26...</td>\n    </tr>\n    <tr>\n      <th>4</th>\n      <td>ISIC_0031633</td>\n      <td>bkl</td>\n      <td>.\\DATA\\HAM10000_images_part_1_and_2\\ISIC_00316...</td>\n      <td>[102, 80, 122, 104, 82, 124, 106, 83, 127, 109...</td>\n    </tr>\n  </tbody>\n</table>\n</div>"
     },
     "execution_count": 13,
     "metadata": {},
     "output_type": "execute_result"
    }
   ],
   "source": [
    "df.head()"
   ],
   "metadata": {
    "collapsed": false,
    "ExecuteTime": {
     "end_time": "2024-01-12T14:45:40.958815400Z",
     "start_time": "2024-01-12T14:45:40.477118400Z"
    }
   },
   "id": "680dba9dfada5b1e"
  },
  {
   "cell_type": "code",
   "execution_count": 15,
   "outputs": [],
   "source": [
    "df = df[[\"diagnosis\", \"image\"]]\n",
    "df.to_csv(\".\\\\DATA\\\\image_data.csv\", index=False)"
   ],
   "metadata": {
    "collapsed": false,
    "ExecuteTime": {
     "end_time": "2024-01-12T14:58:37.787179400Z",
     "start_time": "2024-01-12T14:58:37.055413700Z"
    }
   },
   "id": "20859150b1d509e9"
  }
 ],
 "metadata": {
  "kernelspec": {
   "display_name": "Python 3",
   "language": "python",
   "name": "python3"
  },
  "language_info": {
   "codemirror_mode": {
    "name": "ipython",
    "version": 2
   },
   "file_extension": ".py",
   "mimetype": "text/x-python",
   "name": "python",
   "nbconvert_exporter": "python",
   "pygments_lexer": "ipython2",
   "version": "2.7.6"
  }
 },
 "nbformat": 4,
 "nbformat_minor": 5
}
